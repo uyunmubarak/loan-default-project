{
 "cells": [
  {
   "cell_type": "code",
   "execution_count": 1,
   "metadata": {},
   "outputs": [],
   "source": [
    "import os"
   ]
  },
  {
   "cell_type": "code",
   "execution_count": 2,
   "metadata": {},
   "outputs": [
    {
     "data": {
      "text/plain": [
       "'/root/pacmann/loan-default-project/notebooks'"
      ]
     },
     "execution_count": 2,
     "metadata": {},
     "output_type": "execute_result"
    }
   ],
   "source": [
    "%pwd"
   ]
  },
  {
   "cell_type": "code",
   "execution_count": 3,
   "metadata": {},
   "outputs": [],
   "source": [
    "# Change to the main directory\n",
    "# So, it's executed from main directory\n",
    "os.chdir(\"../\")"
   ]
  },
  {
   "cell_type": "code",
   "execution_count": 4,
   "metadata": {},
   "outputs": [
    {
     "data": {
      "text/plain": [
       "'/root/pacmann/loan-default-project'"
      ]
     },
     "execution_count": 4,
     "metadata": {},
     "output_type": "execute_result"
    }
   ],
   "source": [
    "%pwd"
   ]
  },
  {
   "cell_type": "code",
   "execution_count": 5,
   "metadata": {},
   "outputs": [],
   "source": [
    "from dataclasses import dataclass\n",
    "from pathlib import Path\n",
    "\n",
    "@dataclass(frozen=True)\n",
    "class TrainingConfig:\n",
    "    root_dir: Path\n",
    "    input_train_path: Path\n",
    "    output_train_path: Path\n",
    "    encoded_train_path: Path\n",
    "    encoded_test_path: Path\n",
    "    model_path: Path\n",
    "    params_max_iter: int\n",
    "    params_solver: str\n",
    "    params_c: float\n",
    "    params_class_weight: any"
   ]
  },
  {
   "cell_type": "code",
   "execution_count": 6,
   "metadata": {},
   "outputs": [],
   "source": [
    "from LoanDefault.constants import CONFIG_FILE_PATH, PARAMS_FILE_PATH\n",
    "from LoanDefault.utils.common import read_yaml, create_directories"
   ]
  },
  {
   "cell_type": "code",
   "execution_count": 7,
   "metadata": {},
   "outputs": [],
   "source": [
    "class ConfigurationManager:\n",
    "    def __init__(self, \n",
    "                 config_filepath = CONFIG_FILE_PATH,\n",
    "                 params_filepath = PARAMS_FILE_PATH):\n",
    "\n",
    "        self.config = read_yaml(config_filepath)\n",
    "        self.params = read_yaml(params_filepath)\n",
    "\n",
    "        create_directories([self.config.artifacts_root])\n",
    "    \n",
    "    def get_training_config(self) -> TrainingConfig:\n",
    "        \"\"\"read training config file and store as config entity\n",
    "        then apply the dataclasses\n",
    "        \n",
    "        Returns:\n",
    "            config: TrainingConfig type\n",
    "        \"\"\"\n",
    "        data_dump_config = self.config.dump_data\n",
    "        encoded_data_config = self.config.encoded_data\n",
    "        train_config = self.config.train_model\n",
    "        train_params = self.params\n",
    "\n",
    "        create_directories([train_config.root_dir])\n",
    "\n",
    "        class_weight = None if train_params.CLASS_WEIGHT == \"None\" else train_params.CLASS_WEIGHT\n",
    "\n",
    "        config = TrainingConfig(\n",
    "            root_dir=train_config.root_dir,\n",
    "            input_train_path=Path(data_dump_config.input_train_path),\n",
    "            output_train_path=Path(data_dump_config.output_train_path),\n",
    "            encoded_train_path=Path(encoded_data_config.encoded_train_path),\n",
    "            encoded_test_path=Path(encoded_data_config.encoded_test_path),\n",
    "            model_path=Path(train_config.model_path),\n",
    "            params_max_iter=train_params.MAX_ITER,\n",
    "            params_solver=train_params.SOLVER,\n",
    "            params_c=train_params.C,\n",
    "            params_class_weight=class_weight\n",
    "        )\n",
    "\n",
    "        return config"
   ]
  },
  {
   "cell_type": "code",
   "execution_count": 8,
   "metadata": {},
   "outputs": [],
   "source": [
    "import joblib\n",
    "\n",
    "from sklearn.linear_model import LogisticRegression\n",
    "from sklearn.metrics import classification_report\n",
    "\n",
    "from LoanDefault import logger\n",
    "\n",
    "class Training:\n",
    "    def __init__(self, config: TrainingConfig):\n",
    "        self.config = config\n",
    "\n",
    "    def logistic_regression(self) -> None:\n",
    "        logger.info(f\"Load encoded training data from {self.config.encoded_train_path}.\")\n",
    "        X_train_combined, y_train = joblib.load(self.config.encoded_train_path)\n",
    "        \n",
    "        logger.info(f\"Train the logistic regression model.\")\n",
    "        model = LogisticRegression(\n",
    "            solver=self.config.params_solver,\n",
    "            max_iter=self.config.params_max_iter,\n",
    "            C=self.config.params_c,\n",
    "            class_weight=self.config.params_class_weight\n",
    "        )\n",
    "        \n",
    "        model.fit(X_train_combined, y_train)\n",
    "        \n",
    "        logger.info(f\"Dump the trained model into {self.config.model_path}.\")\n",
    "        joblib.dump(model, self.config.model_path)\n"
   ]
  },
  {
   "cell_type": "code",
   "execution_count": 9,
   "metadata": {},
   "outputs": [
    {
     "name": "stdout",
     "output_type": "stream",
     "text": [
      "[2024-07-13 08:50:54,179: INFO: common: yaml file: config/config.yaml loaded successfully]\n",
      "[2024-07-13 08:50:54,187: INFO: common: yaml file: metrics/params.yaml loaded successfully]\n",
      "[2024-07-13 08:50:54,200: INFO: common: created directory at: artifacts]\n",
      "[2024-07-13 08:50:54,203: INFO: common: created directory at: artifacts/models]\n",
      "[2024-07-13 08:50:54,205: INFO: 1296080503: Load encoded training data from artifacts/preprocessing/X_train_encoded.pkl.]\n",
      "[2024-07-13 08:50:55,172: INFO: 1296080503: Train the logistic regression model.]\n",
      "[2024-07-13 08:50:55,467: INFO: 1296080503: Dump the trained model into artifacts/models/logistic_regression.pkl.]\n"
     ]
    }
   ],
   "source": [
    "try:\n",
    "    config = ConfigurationManager()\n",
    "    training_config = config.get_training_config()\n",
    "    training = Training(config=training_config)\n",
    "    training.logistic_regression()\n",
    "except Exception as e:\n",
    "    logger.error(e)\n",
    "    raise e"
   ]
  },
  {
   "cell_type": "code",
   "execution_count": 10,
   "metadata": {},
   "outputs": [
    {
     "name": "stdout",
     "output_type": "stream",
     "text": [
      "186723    0\n",
      "112233    0\n",
      "1145      0\n",
      "90811     0\n",
      "221324    0\n",
      "         ..\n",
      "119879    0\n",
      "103694    0\n",
      "131932    0\n",
      "146867    0\n",
      "121958    0\n",
      "Length: 51069, dtype: int64\n"
     ]
    }
   ],
   "source": [
    "import pandas as pd\n",
    "import joblib\n",
    "\n",
    "X_train_data = joblib.load(training_config.encoded_train_path)\n",
    "y_train = joblib.load(training_config.output_train_path)\n",
    "model = joblib.load(training_config.model_path)\n",
    "\n",
    "# Check if X_train_data is a tuple and unpack it\n",
    "if isinstance(X_train_data, tuple):\n",
    "    X_train_enc = X_train_data[0]\n",
    "    X_train = X_train_data[1] if len(X_train_data) > 1 else None\n",
    "else:\n",
    "    X_train_enc = X_train_data\n",
    "    X_train = None  # or you can set it to some default value or raise an error\n",
    "\n",
    "# Predict using the loaded model\n",
    "y_pred = pd.Series(model.predict(X_train_enc), index=X_train_enc.index if X_train is None else X_train.index)\n",
    "\n",
    "# Print the predictions\n",
    "print(y_pred)\n"
   ]
  },
  {
   "cell_type": "code",
   "execution_count": 11,
   "metadata": {},
   "outputs": [
    {
     "name": "stdout",
     "output_type": "stream",
     "text": [
      "              precision    recall  f1-score   support\n",
      "\n",
      "           0       0.89      1.00      0.94     45232\n",
      "           1       0.61      0.03      0.05      5837\n",
      "\n",
      "    accuracy                           0.89     51069\n",
      "   macro avg       0.75      0.51      0.49     51069\n",
      "weighted avg       0.86      0.89      0.84     51069\n",
      "\n"
     ]
    }
   ],
   "source": [
    "print(f\"{classification_report(y_train, y_pred)}\")"
   ]
  },
  {
   "cell_type": "code",
   "execution_count": null,
   "metadata": {},
   "outputs": [],
   "source": []
  }
 ],
 "metadata": {
  "kernelspec": {
   "display_name": ".venv_lzd",
   "language": "python",
   "name": "python3"
  },
  "language_info": {
   "codemirror_mode": {
    "name": "ipython",
    "version": 3
   },
   "file_extension": ".py",
   "mimetype": "text/x-python",
   "name": "python",
   "nbconvert_exporter": "python",
   "pygments_lexer": "ipython3",
   "version": "3.12.4"
  }
 },
 "nbformat": 4,
 "nbformat_minor": 2
}
